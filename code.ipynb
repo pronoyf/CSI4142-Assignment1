{
 "cells": [
  {
   "cell_type": "markdown",
   "metadata": {},
   "source": [
    "# Assignment 1 - Exploratory Data Analysis\n",
    "<br>\n",
    "Group number: <br>\n",
    "Name: Pronoy Fuad, student number: 300269503 <br>\n",
    "Name: Kevin Naveen, student number: 300235454"
   ]
  },
  {
   "cell_type": "markdown",
   "metadata": {},
   "source": [
    "# Introduction\n",
    "<br>\n",
    "We've chosen the heart failure prediction dataset to analyze for our first data set. So someone who would read our data analysis for the most part would be professionals in the healthcare industry such as doctors or nurses, these attributes within the dataset help indicate signs that a person could have heart failure in the future. Attributes like cholesterol and blood sugar could aid healthcare workers in being more precise and help determine whether this individual needs an ultrasound or blood test. This is very useful in general because using the quantitative data can be used much more earlier compared to the chronic symptoms like lightheadedness and heart rythm changes, using the quantitative data will help to execute actions much quicker.\n",
    "<br>\n",
    "\n",
    "Police shootings in the United States have sparked intense discussions about law enforcement, racial disparities, and the use of force. This report explores data on fatal police encounters using the shootings dataset, which records incidents of individuals shot and killed by police officers across the country. By looking at factors like race, gender, age, mental illness, and whether the person was armed, we hope to uncover patterns and better understand the circumstances surrounding these tragedies. This dataset may be dissected and scrutinized by detectives, higher officials, or research students seeking to uncover insights on research articles. It is a public dataset and for a topic that helps the general public understand trends on police shootings. Attributes/features such as race, age can help how demogrpahic factors may play a part in this dataset, while attributes like the existance of mental illness can provide other insights on the nature of these shootings. The relationships drawn from this dataset can potentially link bias or prejudice of some level therby aiding in the implementation of policies by individuals looking to make change."
   ]
  },
  {
   "cell_type": "markdown",
   "metadata": {},
   "source": [
    "# Description \n",
    "<br>\n",
    "<br>\n",
    "\n",
    "**Dataset 1**\n",
    "Dataset name: Health Failure Prediction\n",
    "<br>\n",
    "Author: Fedesoriano\n",
    "<br>\n",
    "Purpose: Individuals with cardiovascular disease need early detection, and with this machine learning model can be of great help with that \n",
    "<br>\n",
    "Shape: 12 columns * 918 rows\n",
    "\n",
    "\n",
    "**Dataset 2**\n",
    "Dataset Name: US Police Shootings\n",
    "\n",
    "Author: Ahsen Nazir \n",
    "\n",
    "Purpose: With the recent outburst of racism being linked to police shootings, the author has chosen to collect this data to provide insights into relationships that may connect these shooting incidents. This report will then attempt to drw connections\n",
    "\n",
    "Shape: 15 columns * 4895\n",
    "\n"
   ]
  },
  {
   "cell_type": "markdown",
   "metadata": {},
   "source": [
    "# Features\n",
    "<br>\n",
    "\n",
    "**Dataset 1**\n",
    "Feature 1 - Age: numerical data that indicates the individuals age <br>\n",
    "Feature 2 - Sex: categorical data either being M for male or F for female<br>\n",
    "Feature 3 - ChestPain: categorical data with 4 types, ASY meaning no chest pain, NAP meaning chest pain at night, ATA meaning nontypical angina, TA meaning typical angina<br>\n",
    "Feature 4 - RestingBp: numerical data representing the indivduals blood pressure when they're in a rest state<br>\n",
    "Feature 5 - Cholesterol: numerical data of the individuals cholesterol level<br>\n",
    "Feature 6 - Fasting blood sugar: Numerical data of the individuals blood sugar level when they haven't eaten for atleast 8 hours<br>\n",
    "Feature 7 - RestingECG: Categorical data which ecords the electrical activity of your heart while you are at rest, there is 3 types, normal being a stable heartbeats per minute, LVH being  heart's left ventricle thickens, making it harder for the heart to pump blood, and ST being an indication for injury to the heart muscle, or myocardium<br>\n",
    "Feature 8 - MaxHR: Numerical data indicating number of times an individual heartbeats per minute during intense physical activity<br>\n",
    "Feature 9 - ExerciseAngina: Categorical data, Y meaning true that exercise aggragates angina, and N meaning false that exercise doesn't aggragate angina<br>\n",
    "Feature 10 - Oldpeak: Numerical data, a measurement of the depression in an electrocardiogram (ECG) between the first and second parts of the ST segment<br>\n",
    "Feature 11 - ST_Slope: Categorical data, the slope of the peak exercise ST segment, two major types being flat so stable and up having a upwards trend slope and down having a downward slope<br>\n",
    "Feature 12 - HeartDisease - Numerical data indicating whether the individual has heart disease or not, 0 meaning no, 1 meaning yes<br>\n",
    "\n",
    "**Dataset 2**\n",
    "\n",
    "Feature 1 - id: Numerical data, a unique identifier for each police shooting incident. <br>\n",
    "Feature 2 - name: Categorical data, the name of the individual involved in the incident. <br>\n",
    "Feature 3 - date: Categorical data, the date of the shooting recorded in YYYY-MM-DD format. <br>\n",
    "Feature 4 - manner_of_death: Categorical data, indicating how the individual was killed, with values \"shot\" or \"shot and tasered.\" <br>\n",
    "Feature 5 - armed: Categorical data, describing what the individual was armed with, such as \"gun,\" \"unarmed,\" or \"knife.\" <br>\n",
    "Feature 6 - age: Numerical data, representing the age of the individual at the time of the incident. <br>\n",
    "Feature 7 - gender: Categorical data, with \"M\" for male and \"F\" for female. <br>\n",
    "Feature 8 - race: Categorical data, indicating the racial identity of the individual, such as \"White,\" \"Black,\" \"Hispanic,\" or \"Asian.\" <br>\n",
    "Feature 9 - city: Categorical data, specifying the city where the incident occurred. <br>\n",
    "Feature 10 - state: Categorical data, representing the U.S. state where the incident occurred using a two-letter abbreviation. <br>\n",
    "Feature 11 - signs_of_mental_illness: Categorical data, a boolean value where True means the individual showed signs of mental illness and False means they did not. <br>\n",
    "Feature 12 - threat_level: Categorical data, indicating the perceived threat level of the individual, with values \"attack,\" \"other,\" or \"undetermined.\" <br>\n",
    "Feature 13 - flee: Categorical data, showing whether the individual attempted to flee, with values \"Not fleeing,\" \"Foot,\" \"Car,\" or \"Other.\" <br>\n",
    "Feature 14 - body_camera: Categorical data, a boolean value where True means the incident was recorded on a body camera, and False means it was not. <br>\n",
    "Feature 15 - arms_category: Categorical data, classifying the weapon or object possessed by the individual, such as \"Guns,\" \"Unarmed,\" \"Bladed weapons,\" or \"Other unusual objects.\" <br>\n",
    "\n",
    "Upon inspection of the shootings dataset, it appears there are no missing values and all columns seem to be filled with non-null entries. Regarding redundancy, the Armed feature and Armed_category feature poses potential redundancy due to the generalization of one over the other. Since the armed_category generalizes, it may provide redundant information."
   ]
  },
  {
   "cell_type": "code",
   "execution_count": 3,
   "metadata": {},
   "outputs": [
    {
     "name": "stdout",
     "output_type": "stream",
     "text": [
      "<class 'pandas.core.frame.DataFrame'>\n",
      "RangeIndex: 4895 entries, 0 to 4894\n",
      "Data columns (total 15 columns):\n",
      " #   Column                   Non-Null Count  Dtype  \n",
      "---  ------                   --------------  -----  \n",
      " 0   id                       4895 non-null   int64  \n",
      " 1   name                     4895 non-null   object \n",
      " 2   date                     4895 non-null   object \n",
      " 3   manner_of_death          4895 non-null   object \n",
      " 4   armed                    4895 non-null   object \n",
      " 5   age                      4895 non-null   float64\n",
      " 6   gender                   4895 non-null   object \n",
      " 7   race                     4895 non-null   object \n",
      " 8   city                     4895 non-null   object \n",
      " 9   state                    4895 non-null   object \n",
      " 10  signs_of_mental_illness  4895 non-null   bool   \n",
      " 11  threat_level             4895 non-null   object \n",
      " 12  flee                     4895 non-null   object \n",
      " 13  body_camera              4895 non-null   bool   \n",
      " 14  arms_category            4895 non-null   object \n",
      "dtypes: bool(2), float64(1), int64(1), object(11)\n",
      "memory usage: 506.8+ KB\n"
     ]
    },
    {
     "data": {
      "text/plain": [
       "(None,\n",
       "    id                name        date   manner_of_death       armed   age  \\\n",
       " 0   3          Tim Elliot  2015-01-02              shot         gun  53.0   \n",
       " 1   4    Lewis Lee Lembke  2015-01-02              shot         gun  47.0   \n",
       " 2   5  John Paul Quintero  2015-01-03  shot and Tasered     unarmed  23.0   \n",
       " 3   8     Matthew Hoffman  2015-01-04              shot  toy weapon  32.0   \n",
       " 4   9   Michael Rodriguez  2015-01-04              shot    nail gun  39.0   \n",
       " \n",
       "   gender      race           city state  signs_of_mental_illness threat_level  \\\n",
       " 0      M     Asian        Shelton    WA                     True       attack   \n",
       " 1      M     White          Aloha    OR                    False       attack   \n",
       " 2      M  Hispanic        Wichita    KS                    False        other   \n",
       " 3      M     White  San Francisco    CA                     True       attack   \n",
       " 4      M  Hispanic          Evans    CO                    False       attack   \n",
       " \n",
       "           flee  body_camera          arms_category  \n",
       " 0  Not fleeing        False                   Guns  \n",
       " 1  Not fleeing        False                   Guns  \n",
       " 2  Not fleeing        False                Unarmed  \n",
       " 3  Not fleeing        False  Other unusual objects  \n",
       " 4  Not fleeing        False       Piercing objects  )"
      ]
     },
     "execution_count": 3,
     "metadata": {},
     "output_type": "execute_result"
    }
   ],
   "source": [
    "import pandas as pd\n",
    "\n",
    "# Load the dataset\n",
    "file_path = \"shootings.csv\"\n",
    "df = pd.read_csv(file_path)\n",
    "\n",
    "# Display basic information about the dataset\n",
    "df.info(), df.head()\n"
   ]
  }
 ],
 "metadata": {
  "kernelspec": {
   "display_name": "Python 3",
   "language": "python",
   "name": "python3"
  },
  "language_info": {
   "codemirror_mode": {
    "name": "ipython",
    "version": 3
   },
   "file_extension": ".py",
   "mimetype": "text/x-python",
   "name": "python",
   "nbconvert_exporter": "python",
   "pygments_lexer": "ipython3",
   "version": "3.11.8"
  }
 },
 "nbformat": 4,
 "nbformat_minor": 2
}
