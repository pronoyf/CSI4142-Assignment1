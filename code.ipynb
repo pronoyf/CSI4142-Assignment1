{
 "cells": [
  {
   "cell_type": "markdown",
   "metadata": {},
   "source": [
    "# Assignment 1 - Exploratory Data Analysis\n",
    "<br>\n",
    "Group number: <br>\n",
    "Name: Pronoy Fuad, student number: 300269503 <br>\n",
    "Name: Kevin Naveen, student number: "
   ]
  },
  {
   "cell_type": "markdown",
   "metadata": {},
   "source": [
    "# Introduction\n",
    "<br>\n",
    "We've chosen the heart failure prediction dataset to analyze for our first data set. So someone who would read our data analysis for the most part would be professionals in the healthcare industry such as doctors or nurses, these attributes within the dataset help indicate signs that a person could have heart failure in the future. Attributes like cholesterol and blood sugar could aid healthcare workers in being more precise and help determine whether this individual needs an ultrasound or blood test. This is very useful in general because using the quantitative data can be used much more earlier compared to the chronic symptoms like lightheadedness and heart rythm changes, using the quantitative data will help to execute actions much quicker."
   ]
  },
  {
   "cell_type": "markdown",
   "metadata": {},
   "source": [
    "# Description \n",
    "<br>\n",
    "<br>\n",
    "Dataset name: Health Failure Prediction\n",
    "<br>\n",
    "Author: Fedesoriano\n",
    "<br>\n",
    "Purpose: Individuals with cardiovascular disease need early detection, and with this machine learning model can be of great help with that \n",
    "<br>\n",
    "Shape: 12 columns * 918 rows\n"
   ]
  },
  {
   "cell_type": "markdown",
   "metadata": {},
   "source": [
    "# Features\n",
    "<br>\n",
    "Feature 1 - Age: numerical data that indicates the individuals age <br>\n",
    "Feature 2 - Sex: categorical data either being M for male or F for female<br>\n",
    "Feature 3 - ChestPain: categorical data with 4 types, ASY meaning no chest pain, NAP meaning chest pain at night, ATA meaning nontypical angina, TA meaning typical angina<br>\n",
    "Feature 4 - RestingBp: numerical data representing the indivduals blood pressure when they're in a rest state<br>\n",
    "Feature 5 - Cholesterol: numerical data of the individuals cholesterol level<br>\n",
    "Feature 6 - Fasting blood sugar: Numerical data of the individuals blood sugar level when they haven't eaten for atleast 8 hours<br>\n",
    "Feature 7 - RestingECG: Categorical data which ecords the electrical activity of your heart while you are at rest, there is 3 types, normal being a stable heartbeats per minute, LVH being  heart's left ventricle thickens, making it harder for the heart to pump blood, and ST being an indication for injury to the heart muscle, or myocardium<br>\n",
    "Feature 8 - MaxHR: Numerical data indicating number of times an individual heartbeats per minute during intense physical activity<br>\n",
    "Feature 9 - ExerciseAngina: Categorical data, Y meaning true that exercise aggragates angina, and N meaning false that exercise doesn't aggragate angina<br>\n",
    "Feature 10 - Oldpeak: Numerical data, a measurement of the depression in an electrocardiogram (ECG) between the first and second parts of the ST segment<br>\n",
    "Feature 11 - ST_Slope: Categorical data, the slope of the peak exercise ST segment, two major types being flat so stable and up having a upwards trend slope and down having a downward slope<br>\n",
    "Feature 12 - HeartDisease - Numerical data indicating whether the individual has heart disease or not, 0 meaning no, 1 meaning yes<br>"
   ]
  }
 ],
 "metadata": {
  "language_info": {
   "name": "python"
  }
 },
 "nbformat": 4,
 "nbformat_minor": 2
}
